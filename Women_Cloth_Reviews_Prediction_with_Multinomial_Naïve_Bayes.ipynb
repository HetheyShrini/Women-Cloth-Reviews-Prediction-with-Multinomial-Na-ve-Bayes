{
  "nbformat": 4,
  "nbformat_minor": 0,
  "metadata": {
    "colab": {
      "provenance": [],
      "authorship_tag": "ABX9TyOOJxlcGaCFGeXPkZAXzPSI",
      "include_colab_link": true
    },
    "kernelspec": {
      "name": "python3",
      "display_name": "Python 3"
    },
    "language_info": {
      "name": "python"
    }
  },
  "cells": [
    {
      "cell_type": "markdown",
      "metadata": {
        "id": "view-in-github",
        "colab_type": "text"
      },
      "source": [
        "<a href=\"https://colab.research.google.com/github/HetheyShrini/Women-Cloth-Reviews-Prediction-with-Multinomial-Na-ve-Bayes/blob/main/Women_Cloth_Reviews_Prediction_with_Multinomial_Na%C3%AFve_Bayes.ipynb\" target=\"_parent\"><img src=\"https://colab.research.google.com/assets/colab-badge.svg\" alt=\"Open In Colab\"/></a>"
      ]
    },
    {
      "cell_type": "markdown",
      "source": [
        "**Women Cloth Reviews Prediction with Multinomial Naïve Bayes**"
      ],
      "metadata": {
        "id": "iF9jDDRDuS-m"
      }
    },
    {
      "cell_type": "markdown",
      "source": [
        "**Objective**"
      ],
      "metadata": {
        "id": "y6auwt2auWUM"
      }
    },
    {
      "cell_type": "markdown",
      "source": [
        "To predict the sentiment of women's clothing reviews as positive or negative."
      ],
      "metadata": {
        "id": "n6SeyaeNugig"
      }
    },
    {
      "cell_type": "markdown",
      "source": [
        "**Data Source**"
      ],
      "metadata": {
        "id": "hkVCk18UupOO"
      }
    },
    {
      "cell_type": "markdown",
      "source": [
        "Women's Clothing E-Commerce Reviews dataset."
      ],
      "metadata": {
        "id": "oZ1jTW_GuttI"
      }
    },
    {
      "cell_type": "markdown",
      "source": [
        "**Import Library**"
      ],
      "metadata": {
        "id": "ivqcItVIuwrd"
      }
    },
    {
      "cell_type": "code",
      "source": [
        "import pandas as pd\n",
        "import numpy as np\n",
        "import matplotlib.pyplot as plt\n",
        "from sklearn.feature_extraction.text import CountVectorizer\n",
        "from sklearn.model_selection import train_test_split\n",
        "from sklearn.naive_bayes import MultinomialNB\n",
        "from sklearn import metrics\n",
        "\n"
      ],
      "metadata": {
        "id": "9qzBOtCsu0RB"
      },
      "execution_count": 31,
      "outputs": []
    },
    {
      "cell_type": "markdown",
      "source": [
        "**Import Data**"
      ],
      "metadata": {
        "id": "Jx5LFxfBu2hb"
      }
    },
    {
      "cell_type": "code",
      "source": [
        "# Use the raw URL of the CSV file for direct access\n",
        "file_path = r\"https://raw.githubusercontent.com/HetheyShrini/Women-Cloth-Reviews-Prediction-with-Multinomial-Na-ve-Bayes/main/Womens%20Clothing%20E-Commerce%20Reviews.csv\"\n",
        "\n",
        "# Load the dataset using the raw URL\n",
        "data = pd.read_csv(file_path)\n",
        "\n",
        "# Verify the first few rows of the dataset\n",
        "print(data.head())"
      ],
      "metadata": {
        "colab": {
          "base_uri": "https://localhost:8080/"
        },
        "id": "sPvSDE-cu5Kj",
        "outputId": "e3497d72-3fd3-4137-a2da-525545371195"
      },
      "execution_count": 16,
      "outputs": [
        {
          "output_type": "stream",
          "name": "stdout",
          "text": [
            "   Unnamed: 0  Clothing ID   Age                    Title  \\\n",
            "0         0.0        767.0  33.0                      NaN   \n",
            "1         1.0       1080.0  34.0                      NaN   \n",
            "2         2.0       1077.0  60.0  Some major design flaws   \n",
            "3         3.0       1049.0  50.0         My favorite buy!   \n",
            "4         4.0        847.0  47.0         Flattering shirt   \n",
            "\n",
            "                                         Review Text  Rating  Recommended IND  \\\n",
            "0  Absolutely wonderful - silky and sexy and comf...     4.0              1.0   \n",
            "1  Love this dress!  it's sooo pretty.  i happene...     5.0              1.0   \n",
            "2  I had such high hopes for this dress and reall...     3.0              0.0   \n",
            "3  I love, love, love this jumpsuit. it's fun, fl...     5.0              1.0   \n",
            "4  This shirt is very flattering to all due to th...     5.0              1.0   \n",
            "\n",
            "   Positive Feedback Count   Division Name Department Name Class Name  \n",
            "0                      0.0       Initmates        Intimate  Intimates  \n",
            "1                      4.0         General         Dresses    Dresses  \n",
            "2                      0.0         General         Dresses    Dresses  \n",
            "3                      0.0  General Petite         Bottoms      Pants  \n",
            "4                      6.0         General            Tops    Blouses  \n"
          ]
        }
      ]
    },
    {
      "cell_type": "markdown",
      "source": [
        "**Describe Data**"
      ],
      "metadata": {
        "id": "oO9km6zez1df"
      }
    },
    {
      "cell_type": "code",
      "source": [
        "print(data.head())\n",
        "print(data.info())\n",
        "print(data['Review Text'].describe())\n"
      ],
      "metadata": {
        "colab": {
          "base_uri": "https://localhost:8080/"
        },
        "id": "ZggCId_gz3mn",
        "outputId": "103316ca-34fb-4c47-fc9d-aebdff639763"
      },
      "execution_count": 17,
      "outputs": [
        {
          "output_type": "stream",
          "name": "stdout",
          "text": [
            "   Unnamed: 0  Clothing ID   Age                    Title  \\\n",
            "0         0.0        767.0  33.0                      NaN   \n",
            "1         1.0       1080.0  34.0                      NaN   \n",
            "2         2.0       1077.0  60.0  Some major design flaws   \n",
            "3         3.0       1049.0  50.0         My favorite buy!   \n",
            "4         4.0        847.0  47.0         Flattering shirt   \n",
            "\n",
            "                                         Review Text  Rating  Recommended IND  \\\n",
            "0  Absolutely wonderful - silky and sexy and comf...     4.0              1.0   \n",
            "1  Love this dress!  it's sooo pretty.  i happene...     5.0              1.0   \n",
            "2  I had such high hopes for this dress and reall...     3.0              0.0   \n",
            "3  I love, love, love this jumpsuit. it's fun, fl...     5.0              1.0   \n",
            "4  This shirt is very flattering to all due to th...     5.0              1.0   \n",
            "\n",
            "   Positive Feedback Count   Division Name Department Name Class Name  \n",
            "0                      0.0       Initmates        Intimate  Intimates  \n",
            "1                      4.0         General         Dresses    Dresses  \n",
            "2                      0.0         General         Dresses    Dresses  \n",
            "3                      0.0  General Petite         Bottoms      Pants  \n",
            "4                      6.0         General            Tops    Blouses  \n",
            "<class 'pandas.core.frame.DataFrame'>\n",
            "RangeIndex: 23483 entries, 0 to 23482\n",
            "Data columns (total 11 columns):\n",
            " #   Column                   Non-Null Count  Dtype  \n",
            "---  ------                   --------------  -----  \n",
            " 0   Unnamed: 0               101 non-null    float64\n",
            " 1   Clothing ID              101 non-null    float64\n",
            " 2   Age                      101 non-null    float64\n",
            " 3   Title                    77 non-null     object \n",
            " 4   Review Text              98 non-null     object \n",
            " 5   Rating                   101 non-null    float64\n",
            " 6   Recommended IND          101 non-null    float64\n",
            " 7   Positive Feedback Count  101 non-null    float64\n",
            " 8   Division Name            101 non-null    object \n",
            " 9   Department Name          101 non-null    object \n",
            " 10  Class Name               101 non-null    object \n",
            "dtypes: float64(6), object(5)\n",
            "memory usage: 2.0+ MB\n",
            "None\n",
            "count                                                    98\n",
            "unique                                                   98\n",
            "top       Absolutely wonderful - silky and sexy and comf...\n",
            "freq                                                      1\n",
            "Name: Review Text, dtype: object\n"
          ]
        }
      ]
    },
    {
      "cell_type": "markdown",
      "source": [
        "**Data Visualization**"
      ],
      "metadata": {
        "id": "Hqs5cshNz62Y"
      }
    },
    {
      "cell_type": "code",
      "source": [
        "data['Rating'].value_counts().plot(kind='bar', title='Rating Distribution')\n",
        "plt.xlabel('Rating')\n",
        "plt.ylabel('Frequency')\n",
        "plt.show()\n"
      ],
      "metadata": {
        "colab": {
          "base_uri": "https://localhost:8080/",
          "height": 480
        },
        "id": "L3f--dFVz80C",
        "outputId": "46b2068b-e6f8-4ac9-deb8-c58930db7538"
      },
      "execution_count": 18,
      "outputs": [
        {
          "output_type": "display_data",
          "data": {
            "text/plain": [
              "<Figure size 640x480 with 1 Axes>"
            ],
            "image/png": "[encoded data removed]"
          },
          "metadata": {}
        }
      ]
    },
    {
      "cell_type": "markdown",
      "source": [
        "**Data Preprocessing**"
      ],
      "metadata": {
        "id": "gjmTOuc60AJq"
      }
    },
    {
      "cell_type": "code",
      "source": [
        "# Drop rows with missing review texts\n",
        "data = data.dropna(subset=['Review Text'])\n",
        "\n",
        "# Create a new column 'Sentiment' based on the rating\n",
        "data['Sentiment'] = np.where(data['Rating'] >= 4, 'Positive', 'Negative')\n",
        "\n",
        "# Define feature (X) and target (y) variables\n",
        "X = data['Review Text']\n",
        "y = data['Sentiment']\n"
      ],
      "metadata": {
        "colab": {
          "base_uri": "https://localhost:8080/"
        },
        "id": "bdLo4pOs0CEJ",
        "outputId": "7ba002d4-55e8-4c2e-b37c-868458fd2315"
      },
      "execution_count": 19,
      "outputs": [
        {
          "output_type": "stream",
          "name": "stderr",
          "text": [
            "<ipython-input-19-52cf09161a75>:5: SettingWithCopyWarning: \n",
            "A value is trying to be set on a copy of a slice from a DataFrame.\n",
            "Try using .loc[row_indexer,col_indexer] = value instead\n",
            "\n",
            "See the caveats in the documentation: https://pandas.pydata.org/pandas-docs/stable/user_guide/indexing.html#returning-a-view-versus-a-copy\n",
            "  data['Sentiment'] = np.where(data['Rating'] >= 4, 'Positive', 'Negative')\n"
          ]
        }
      ]
    },
    {
      "cell_type": "markdown",
      "source": [
        "**Define Target Variable (y) and Feature Variables (X)**"
      ],
      "metadata": {
        "id": "Wfb1sluC0FMI"
      }
    },
    {
      "cell_type": "code",
      "source": [
        "print(X.head())\n",
        "print(y.head())\n"
      ],
      "metadata": {
        "colab": {
          "base_uri": "https://localhost:8080/"
        },
        "id": "rj4-DGpt0II1",
        "outputId": "e0121a61-6c43-416b-a6e3-4b369d05f60a"
      },
      "execution_count": 20,
      "outputs": [
        {
          "output_type": "stream",
          "name": "stdout",
          "text": [
            "0    Absolutely wonderful - silky and sexy and comf...\n",
            "1    Love this dress!  it's sooo pretty.  i happene...\n",
            "2    I had such high hopes for this dress and reall...\n",
            "3    I love, love, love this jumpsuit. it's fun, fl...\n",
            "4    This shirt is very flattering to all due to th...\n",
            "Name: Review Text, dtype: object\n",
            "0    Positive\n",
            "1    Positive\n",
            "2    Negative\n",
            "3    Positive\n",
            "4    Positive\n",
            "Name: Sentiment, dtype: object\n"
          ]
        }
      ]
    },
    {
      "cell_type": "markdown",
      "source": [
        "**Train Test Split**"
      ],
      "metadata": {
        "id": "DFtjsAuO0Mjc"
      }
    },
    {
      "cell_type": "code",
      "source": [
        "X_train, X_test, y_train, y_test = train_test_split(X, y, test_size=0.3, random_state=42)\n"
      ],
      "metadata": {
        "id": "pDJehzN60N85"
      },
      "execution_count": 21,
      "outputs": []
    },
    {
      "cell_type": "markdown",
      "source": [
        "**Modeling**"
      ],
      "metadata": {
        "id": "XyGiogyy0Sz3"
      }
    },
    {
      "cell_type": "code",
      "source": [
        "# Import the necessary modules\n",
        "from sklearn.feature_extraction.text import CountVectorizer, TfidfVectorizer\n",
        "\n",
        "# Using CountVectorizer\n",
        "count_vectorizer = CountVectorizer()\n",
        "X_train_counts = count_vectorizer.fit_transform(X_train)\n",
        "X_test_counts = count_vectorizer.transform(X_test)\n",
        "\n",
        "# Using TfidfVectorizer\n",
        "tfidf_vectorizer = TfidfVectorizer()\n",
        "X_train_tfidf = tfidf_vectorizer.fit_transform(X_train)\n",
        "X_test_tfidf = tfidf_vectorizer.transform(X_test)\n",
        "\n",
        "# Initialize the Multinomial Naive Bayes model\n",
        "model_counts = MultinomialNB()\n",
        "model_tfidf = MultinomialNB()\n",
        "\n",
        "#"
      ],
      "metadata": {
        "id": "EfSGi2eW0Vh1"
      },
      "execution_count": 24,
      "outputs": []
    },
    {
      "cell_type": "markdown",
      "source": [
        "**Model Evaluation**"
      ],
      "metadata": {
        "id": "PYrVnwsZ0lP9"
      }
    },
    {
      "cell_type": "code",
      "source": [
        "# Import the necessary modules\n",
        "from sklearn.feature_extraction.text import CountVectorizer, TfidfVectorizer\n",
        "from sklearn.naive_bayes import MultinomialNB\n",
        "from sklearn import metrics\n",
        "\n",
        "# Using CountVectorizer\n",
        "count_vectorizer = CountVectorizer()\n",
        "X_train_counts = count_vectorizer.fit_transform(X_train)\n",
        "X_test_counts = count_vectorizer.transform(X_test)\n",
        "\n",
        "# Using TfidfVectorizer\n",
        "tfidf_vectorizer = TfidfVectorizer()\n",
        "X_train_tfidf = tfidf_vectorizer.fit_transform(X_train) # Changed 'tf' to 'tfidf_vectorizer.fit_transform(X_train)'"
      ],
      "metadata": {
        "id": "sUVVHpu40mHI"
      },
      "execution_count": 28,
      "outputs": []
    },
    {
      "cell_type": "markdown",
      "source": [
        "**Prediction**"
      ],
      "metadata": {
        "id": "aC-2ASMh0_Sc"
      }
    },
    {
      "cell_type": "code",
      "source": [
        "# Import the necessary modules\n",
        "from sklearn.feature_extraction.text import CountVectorizer, TfidfVectorizer\n",
        "from sklearn.naive_bayes import MultinomialNB\n",
        "from sklearn import metrics\n",
        "\n",
        "# Using CountVectorizer\n",
        "count_vectorizer = CountVectorizer()\n",
        "X_train_counts = count_vectorizer.fit_transform(X_train)\n",
        "X_test_counts = count_vectorizer.transform(X_test)\n",
        "\n",
        "# Using TfidfVectorizer\n",
        "tfidf_vectorizer = TfidfVectorizer()\n",
        "X_train_tfidf = tfidf_vectorizer.fit_transform(X_train) # Changed 'tf' to 'tfidf_vectorizer.fit_transform(X_train)'\n",
        "\n",
        "# Initialize the Multinomial Naive Bayes model\n",
        "model_counts = MultinomialNB()\n",
        "model_tfidf = MultinomialNB()\n",
        "\n",
        "# Fit the models\n",
        "model_counts.fit(X_train_counts, y_train) # Added this line to fit the model with count vectorizer data\n",
        "model_tfidf.fit(X_train_tfidf, y_train) # Added this line to fit the model with tfidf vectorizer data\n",
        "\n",
        "sample_review = [\"This dress is absolutely amazing!\"]\n",
        "\n",
        "# Using CountVectorizer\n",
        "sample_review_counts = count_vectorizer.transform(sample_review)\n",
        "predicted_sentiment_counts = model_counts.predict(sample_review_counts)\n",
        "print(f'Predicted Sentiment using CountVectorizer: {predicted_sentiment_counts[0]}')\n",
        "\n",
        "# Using TfidfVectorizer\n",
        "sample_review_tfidf = tfidf_vectorizer.transform(sample_review)\n",
        "predicted_sentiment_tfidf = model_tfidf.predict(sample_review_tfidf)\n",
        "print(f'Predicted Sentiment using TfidfVectorizer: {predicted_sentiment_tfidf[0]}')"
      ],
      "metadata": {
        "colab": {
          "base_uri": "https://localhost:8080/"
        },
        "id": "MPcdsX_a1A6l",
        "outputId": "b063c188-780a-466f-b522-080272dcf048"
      },
      "execution_count": 30,
      "outputs": [
        {
          "output_type": "stream",
          "name": "stdout",
          "text": [
            "Predicted Sentiment using CountVectorizer: Positive\n",
            "Predicted Sentiment using TfidfVectorizer: Positive\n"
          ]
        }
      ]
    },
    {
      "cell_type": "markdown",
      "source": [
        "**Explanation**"
      ],
      "metadata": {
        "id": "ksyWPJu33krW"
      }
    },
    {
      "cell_type": "markdown",
      "source": [
        "This project involves loading the women's clothing reviews dataset, preprocessing the data, and transforming the text data into features using CountVectorizer and TfidfVectorizer. The Multinomial Naive Bayes model is trained using both sets of features, evaluated, and used to predict the sentiment of new reviews. Both the classification report and confusion matrix provide insights into the model's performance."
      ],
      "metadata": {
        "id": "akBmib4m3mX6"
      }
    },
    {
      "cell_type": "code",
      "source": [],
      "metadata": {
        "id": "ghFHkdfc3rOs"
      },
      "execution_count": null,
      "outputs": []
    }
  ]
}